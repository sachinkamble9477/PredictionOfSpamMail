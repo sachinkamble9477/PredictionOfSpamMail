{
  "nbformat": 4,
  "nbformat_minor": 0,
  "metadata": {
    "colab": {
      "name": "PredictionOfSpamMail.ipynb",
      "provenance": [],
      "collapsed_sections": []
    },
    "kernelspec": {
      "name": "python3",
      "display_name": "Python 3"
    },
    "language_info": {
      "name": "python"
    }
  },
  "cells": [
    {
      "cell_type": "markdown",
      "metadata": {
        "id": "BGGSshIRs-mF"
      },
      "source": [
        "PROJECT:- PREDICTION OF SPAM MAIL "
      ]
    },
    {
      "cell_type": "code",
      "metadata": {
        "id": "uP-HThaIs_K9"
      },
      "source": [
        "import numpy as np \n",
        "import pandas as pd\n",
        "from sklearn.model_selection import train_test_split\n",
        "from sklearn.feature_extraction.text import TfidfVectorizer\n",
        "from sklearn.svm import SVC\n",
        "from sklearn.metrics import accuracy_score"
      ],
      "execution_count": 4,
      "outputs": []
    },
    {
      "cell_type": "markdown",
      "metadata": {
        "id": "21rEPmH1tsj9"
      },
      "source": [
        "DATA PREPROCESSING"
      ]
    },
    {
      "cell_type": "code",
      "metadata": {
        "colab": {
          "base_uri": "https://localhost:8080/",
          "height": 202
        },
        "id": "igcGsJWLttIK",
        "outputId": "6a5f0cb6-8c44-462d-c1ed-5fa8b5c26b04"
      },
      "source": [
        "# Load the dataset to pandas data frame \n",
        "raw_mail_data=pd.read_csv('spamham.csv')  #store in pandas data \n",
        "\n",
        "# Replace the null values with a null string\n",
        "mail_data=raw_mail_data.where((pd.notnull(raw_mail_data)),' ')\n",
        "\n",
        "mail_data.shape\n",
        "\n",
        "mail_data.head()"
      ],
      "execution_count": 8,
      "outputs": [
        {
          "output_type": "execute_result",
          "data": {
            "text/html": [
              "<div>\n",
              "<style scoped>\n",
              "    .dataframe tbody tr th:only-of-type {\n",
              "        vertical-align: middle;\n",
              "    }\n",
              "\n",
              "    .dataframe tbody tr th {\n",
              "        vertical-align: top;\n",
              "    }\n",
              "\n",
              "    .dataframe thead th {\n",
              "        text-align: right;\n",
              "    }\n",
              "</style>\n",
              "<table border=\"1\" class=\"dataframe\">\n",
              "  <thead>\n",
              "    <tr style=\"text-align: right;\">\n",
              "      <th></th>\n",
              "      <th>Category</th>\n",
              "      <th>Message</th>\n",
              "    </tr>\n",
              "  </thead>\n",
              "  <tbody>\n",
              "    <tr>\n",
              "      <th>0</th>\n",
              "      <td>ham</td>\n",
              "      <td>Go until jurong point, crazy.. Available only ...</td>\n",
              "    </tr>\n",
              "    <tr>\n",
              "      <th>1</th>\n",
              "      <td>ham</td>\n",
              "      <td>Ok lar... Joking wif u oni...</td>\n",
              "    </tr>\n",
              "    <tr>\n",
              "      <th>2</th>\n",
              "      <td>spam</td>\n",
              "      <td>Free entry in 2 a wkly comp to win FA Cup fina...</td>\n",
              "    </tr>\n",
              "    <tr>\n",
              "      <th>3</th>\n",
              "      <td>ham</td>\n",
              "      <td>U dun say so early hor... U c already then say...</td>\n",
              "    </tr>\n",
              "    <tr>\n",
              "      <th>4</th>\n",
              "      <td>ham</td>\n",
              "      <td>Nah I don't think he goes to usf, he lives aro...</td>\n",
              "    </tr>\n",
              "  </tbody>\n",
              "</table>\n",
              "</div>"
            ],
            "text/plain": [
              "  Category                                            Message\n",
              "0      ham  Go until jurong point, crazy.. Available only ...\n",
              "1      ham                      Ok lar... Joking wif u oni...\n",
              "2     spam  Free entry in 2 a wkly comp to win FA Cup fina...\n",
              "3      ham  U dun say so early hor... U c already then say...\n",
              "4      ham  Nah I don't think he goes to usf, he lives aro..."
            ]
          },
          "metadata": {},
          "execution_count": 8
        }
      ]
    },
    {
      "cell_type": "code",
      "metadata": {
        "colab": {
          "base_uri": "https://localhost:8080/"
        },
        "id": "hSdtccqUxhA4",
        "outputId": "e15729e0-cc5d-45b7-fa2c-b4acc92d4e79"
      },
      "source": [
        "# Label mail data as 0= spam & 1=ham\n",
        "\n",
        "mail_data.loc[mail_data['Category']=='spam','Category',]= 0\n",
        "\n",
        "mail_data.loc[mail_data['Category']=='ham','Category',]= 1\n",
        "\n",
        "A=mail_data['Message']\n",
        "B=mail_data['Category']\n",
        "\n",
        "print(A)\n",
        "print(B)"
      ],
      "execution_count": 40,
      "outputs": [
        {
          "output_type": "stream",
          "name": "stdout",
          "text": [
            "0       Go until jurong point, crazy.. Available only ...\n",
            "1                           Ok lar... Joking wif u oni...\n",
            "2       Free entry in 2 a wkly comp to win FA Cup fina...\n",
            "3       U dun say so early hor... U c already then say...\n",
            "4       Nah I don't think he goes to usf, he lives aro...\n",
            "                              ...                        \n",
            "5567    This is the 2nd time we have tried 2 contact u...\n",
            "5568                 Will ü b going to esplanade fr home?\n",
            "5569    Pity, * was in mood for that. So...any other s...\n",
            "5570    The guy did some bitching but I acted like i'd...\n",
            "5571                           Rofl. Its true to its name\n",
            "Name: Message, Length: 5572, dtype: object\n",
            "0       1\n",
            "1       1\n",
            "2       0\n",
            "3       1\n",
            "4       1\n",
            "       ..\n",
            "5567    0\n",
            "5568    1\n",
            "5569    1\n",
            "5570    1\n",
            "5571    1\n",
            "Name: Category, Length: 5572, dtype: object\n"
          ]
        }
      ]
    },
    {
      "cell_type": "code",
      "metadata": {
        "id": "cQFXrYWuyY-Y"
      },
      "source": [
        "# Train Test Split \n",
        "# split the data as train data and test data \n",
        "\n",
        "A_train,A_test,B_train,B_test = train_test_split(A,B, train_size=0.8,test_size=0.2,random_state=3)\n",
        "\n"
      ],
      "execution_count": 42,
      "outputs": []
    },
    {
      "cell_type": "code",
      "metadata": {
        "id": "D5b9lEHF2oyu"
      },
      "source": [
        "# Feature Exraction \n",
        "# Transform the text data to feature vectors that used as input to the svm model using Tfidfvectorizer\n",
        "\n",
        "# convert the case into lower letter\n",
        " \n",
        "feature_extraction = TfidfVectorizer(min_df=1, stop_words='english', lowercase='True')\n",
        "A_train_features = feature_extraction.fit_transform(A_train)\n",
        "A_test_features = feature_extraction.transform(A_test)\n",
        "\n",
        "#convert Y_train and Y_test values as integers\n",
        "B_train = B_train.astype('int')\n",
        "B_test = B_test.astype('int')"
      ],
      "execution_count": 49,
      "outputs": []
    },
    {
      "cell_type": "markdown",
      "metadata": {
        "id": "bOR12E1D3Lri"
      },
      "source": [
        "SUPPORT VECTOR MACHINE MODEL"
      ]
    },
    {
      "cell_type": "code",
      "metadata": {
        "colab": {
          "base_uri": "https://localhost:8080/"
        },
        "id": "ycVta7XT3TkF",
        "outputId": "631e960f-5898-486c-c683-a593a8f1596a"
      },
      "source": [
        "# Training the SUPPORT VECTOR MACHINE model with training data \n",
        "model=SVC()\n",
        "model.fit(A_train_features,B_train)"
      ],
      "execution_count": 48,
      "outputs": [
        {
          "output_type": "execute_result",
          "data": {
            "text/plain": [
              "SVC(C=1.0, break_ties=False, cache_size=200, class_weight=None, coef0=0.0,\n",
              "    decision_function_shape='ovr', degree=3, gamma='scale', kernel='rbf',\n",
              "    max_iter=-1, probability=False, random_state=None, shrinking=True,\n",
              "    tol=0.001, verbose=False)"
            ]
          },
          "metadata": {},
          "execution_count": 48
        }
      ]
    },
    {
      "cell_type": "code",
      "metadata": {
        "colab": {
          "base_uri": "https://localhost:8080/"
        },
        "id": "37MI-CAY4S4C",
        "outputId": "b55b1d85-9238-42b9-fc45-f4ed34685e51"
      },
      "source": [
        "#  Evaluation of the model\n",
        "# Prediction on Training data \n",
        "prediction_on_training_data = model.predict(A_train_features)\n",
        "accuracy_on_training_data = accuracy_score(B_train,prediction_on_training_data)\n",
        "print('Accuracy on training data:',accuracy_on_training_data)\n",
        "\n"
      ],
      "execution_count": 50,
      "outputs": [
        {
          "output_type": "stream",
          "name": "stdout",
          "text": [
            "Accuracy on training data: 0.99798070450976\n"
          ]
        }
      ]
    },
    {
      "cell_type": "code",
      "metadata": {
        "colab": {
          "base_uri": "https://localhost:8080/"
        },
        "id": "nDbSqSrG9nn_",
        "outputId": "00ffffae-9e73-434e-cd7a-cd4efeda634d"
      },
      "source": [
        "# Prediction on Test data\n",
        "prediction_on_test_data=model.predict(A_test_features)\n",
        "accuracy_on_test_data=accuracy_score(B_test,prediction_on_test_data)\n",
        "print('Accuracy on test data:',accuracy_on_test_data)"
      ],
      "execution_count": 52,
      "outputs": [
        {
          "output_type": "stream",
          "name": "stdout",
          "text": [
            "Accuracy on test data: 0.979372197309417\n"
          ]
        }
      ]
    },
    {
      "cell_type": "code",
      "metadata": {
        "colab": {
          "base_uri": "https://localhost:8080/"
        },
        "id": "FmHysoqJ-Smj",
        "outputId": "97b2567d-b79d-4a0d-d0ab-de6313c299a7"
      },
      "source": [
        "# Predictio on New Mail \n",
        "input_mail=[\"Congrats! 1 year special cinema pass for 2 is yours. call 09061209465 now! C Suprman V, Matrix3, StarWars3, etc all 4 FREE! bx420-ip4-5we. 150pm. Dont miss out!\"]\n",
        "\n",
        "# Convert text to feature vector \n",
        "input_mail_feature=feature_extraction.transform(input_mail)\n",
        "\n",
        "# Making prediction \n",
        "prediction=model.predict(input_mail_feature)\n",
        "print(prediction)\n",
        "\n",
        "if (prediction[0]==1):\n",
        "  print('HAM MAIL')\n",
        "else:\n",
        "  print('SPAM MAIL')"
      ],
      "execution_count": 55,
      "outputs": [
        {
          "output_type": "stream",
          "name": "stdout",
          "text": [
            "[0]\n",
            "SPAM MAIL\n"
          ]
        }
      ]
    }
  ]
}